{
 "cells": [
  {
   "cell_type": "code",
   "execution_count": 2,
   "metadata": {
    "collapsed": true
   },
   "outputs": [],
   "source": [
    "import numpy as np"
   ]
  },
  {
   "cell_type": "code",
   "execution_count": 3,
   "metadata": {
    "collapsed": true
   },
   "outputs": [],
   "source": [
    "import matplotlib.pyplot as plt"
   ]
  },
  {
   "cell_type": "code",
   "execution_count": 4,
   "metadata": {
    "collapsed": true
   },
   "outputs": [],
   "source": [
    "# 산전도 그래픽 그리기\n",
    "\n",
    "SIZE = 30\n",
    "x_value = np.random.rand(SIZE)\n",
    "y_value = np.random.rand(SIZE)\n",
    "# 평균값\n",
    "sizeAry = (50 * np.random.rand(SIZE))**2\n",
    "# 색상 랜덤\n",
    "colorAry = np.random.rand(SIZE)"
   ]
  },
  {
   "cell_type": "code",
   "execution_count": 5,
   "metadata": {},
   "outputs": [
    {
     "data": {
      "image/png": "[encoded data removed]",
      "text/plain": [
       "<Figure size 432x288 with 2 Axes>"
      ]
     },
     "metadata": {},
     "output_type": "display_data"
    }
   ],
   "source": [
    "plt.scatter(x_value, y_value, s=sizeAry, c=colorAry, alpha=0.5, cmap='spring')  # 좌표, 크기, 모형 설정\n",
    "plt.colorbar()\n",
    "plt.show()  # 산전도 그래프 출력"
   ]
  },
  {
   "cell_type": "code",
   "execution_count": 6,
   "metadata": {
    "collapsed": true
   },
   "outputs": [],
   "source": [
    "# 구글 실시간 검색어 추출\n",
    "from webdriver_manager.chrome import ChromeDriverManager\n",
    "from selenium import webdriver"
   ]
  },
  {
   "cell_type": "code",
   "execution_count": 7,
   "metadata": {
    "scrolled": true
   },
   "outputs": [
    {
     "name": "stdout",
     "output_type": "stream",
     "text": [
      "\n"
     ]
    },
    {
     "name": "stderr",
     "output_type": "stream",
     "text": [
      "[WDM] - ====== WebDriver manager ======\n",
      "[WDM] - Current google-chrome version is 107.0.5304\n",
      "[WDM] - Get LATEST chromedriver version for 107.0.5304 google-chrome\n",
      "[WDM] - About to download new driver from https://chromedriver.storage.googleapis.com/107.0.5304.62/chromedriver_win32.zip\n",
      "[WDM] - Driver has been saved in cache [C:\\Users\\admin\\.wdm\\drivers\\chromedriver\\win32\\107.0.5304.62]\n"
     ]
    }
   ],
   "source": [
    "#  새로운 크롬 브라우저 열기\n",
    "driver = webdriver.Chrome(ChromeDriverManager().install())"
   ]
  },
  {
   "cell_type": "code",
   "execution_count": 8,
   "metadata": {
    "collapsed": true
   },
   "outputs": [],
   "source": [
    "# 구글 일별 검색어 순위 페이지 가져와서 보여주기\n",
    "url = 'https://trends.google.co.kr/trends/trendingsearches/daily?geo=KR'\n",
    "driver.get(url)  # 열어둔 크롬 브라우저에 url 요청\n",
    "driver.implicitly_wait(time_to_wait = 10)"
   ]
  },
  {
   "cell_type": "code",
   "execution_count": 9,
   "metadata": {
    "collapsed": true
   },
   "outputs": [],
   "source": [
    "from selenium.webdriver.common.by import By"
   ]
  },
  {
   "cell_type": "code",
   "execution_count": 10,
   "metadata": {
    "collapsed": true
   },
   "outputs": [],
   "source": [
    "# signal이라는 홈페이지의 실시간 검색어 순위\n",
    "URL='https://signal.bz/news'\n",
    "driver.get(URL)\n",
    "driver.implicitly_wait(time_to_wait = 10)"
   ]
  },
  {
   "cell_type": "code",
   "execution_count": 11,
   "metadata": {
    "collapsed": true
   },
   "outputs": [],
   "source": [
    "# 하나의 데이터만 가져올 때\n",
    "naver_results = driver.find_element_by_css_selector('#app > div > main > div > section > div > section > section:nth-child(2)>div:nth-child(2)>div>div>div>a>span.rank-text')"
   ]
  },
  {
   "cell_type": "code",
   "execution_count": 12,
   "metadata": {
    "collapsed": true
   },
   "outputs": [],
   "source": [
    "# 여러가지의 데이터를 가져올 때\n",
    "naver_results = driver.find_elements(By.CSS_SELECTOR, '#app > div > main > div > section > div > section > section:nth-child(2)>div:nth-child(2)>div>div>div>a>span.rank-text')"
   ]
  },
  {
   "cell_type": "code",
   "execution_count": 13,
   "metadata": {},
   "outputs": [
    {
     "name": "stdout",
     "output_type": "stream",
     "text": [
      "렌터카 박영수 기소\n",
      "일회용 보증금제 무인회수기\n",
      "이태원 사망자 명단\n",
      "이재명\n",
      "며느리 서효림에 3번\n",
      "2호선\n",
      "아유미\n",
      "기안84\n",
      "이소라\n",
      "김은혜\n"
     ]
    }
   ],
   "source": [
    "naver_list = []\n",
    "for naver_result in naver_results:  # 반복문\n",
    "    print(naver_result.text)    # 가져온 데이터 출력\n",
    "    naver_list.append(naver_result.text)\n"
   ]
  },
  {
   "cell_type": "code",
   "execution_count": 14,
   "metadata": {
    "collapsed": true
   },
   "outputs": [],
   "source": [
    "# 네이트 홈페이지의 실시간 검색어 순위 \n",
    "URL = 'http://www.nate.com'\n",
    "driver.get(URL)\n",
    "driver.implicitly_wait(time_to_wait = 10)"
   ]
  },
  {
   "cell_type": "code",
   "execution_count": 15,
   "metadata": {
    "collapsed": true
   },
   "outputs": [],
   "source": [
    "driver.find_element_by_css_selector('#olLiveIssueKeyword > li:nth-child(1) > a > span.txt_rank').click()"
   ]
  },
  {
   "cell_type": "code",
   "execution_count": 16,
   "metadata": {
    "collapsed": true
   },
   "outputs": [],
   "source": [
    "# 데이터 가져오기\n",
    "nate_results = driver.find_elements(By.CSS_SELECTOR, '#search-option > form:nth-child(1) > fieldset > div.issue-kwd > span > a')"
   ]
  },
  {
   "cell_type": "code",
   "execution_count": 17,
   "metadata": {},
   "outputs": [
    {
     "name": "stdout",
     "output_type": "stream",
     "text": [
      "정진상 비공개 검찰\n",
      "이소라 이혼 사유\n",
      "이태원 참사 국정조사\n",
      "이상민 최선 다\n",
      "김건희 팔짱 불편하다는\n",
      "월드컵 일정\n",
      "컵 성능 무인회수기\n",
      "2호선\n",
      "\n",
      "\n"
     ]
    }
   ],
   "source": [
    "nate_list = []\n",
    "for nate_result in nate_results: # 반복문\n",
    "    print(nate_result.text)  # 가져온 데이터 출력\n",
    "    nate_list.append(nate_result.text)\n"
   ]
  },
  {
   "cell_type": "code",
   "execution_count": null,
   "metadata": {
    "collapsed": true
   },
   "outputs": [],
   "source": []
  }
 ],
 "metadata": {
  "kernelspec": {
   "display_name": "Python 3",
   "language": "python",
   "name": "python3"
  },
  "language_info": {
   "codemirror_mode": {
    "name": "ipython",
    "version": 3
   },
   "file_extension": ".py",
   "mimetype": "text/x-python",
   "name": "python",
   "nbconvert_exporter": "python",
   "pygments_lexer": "ipython3",
   "version": "3.6.3"
  }
 },
 "nbformat": 4,
 "nbformat_minor": 2
}
